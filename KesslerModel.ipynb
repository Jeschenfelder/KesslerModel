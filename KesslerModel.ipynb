{
 "cells": [
  {
   "attachments": {},
   "cell_type": "markdown",
   "metadata": {},
   "source": [
    "# Kessler Rules model for Sorted Circles"
   ]
  },
  {
   "cell_type": "code",
   "execution_count": 8,
   "metadata": {},
   "outputs": [],
   "source": [
    "import numpy as np\n",
    "import matplotlib.pyplot as plt\n",
    "from matplotlib import colors,cm"
   ]
  },
  {
   "attachments": {},
   "cell_type": "markdown",
   "metadata": {},
   "source": [
    "## Setting up the Grids\n",
    "Only work in 2-D case for now."
   ]
  },
  {
   "cell_type": "code",
   "execution_count": 9,
   "metadata": {},
   "outputs": [],
   "source": [
    "# Setting constants\n",
    "nx = 5\n",
    "nz = 10\n",
    "dx,dz = 0.2,0.1\n",
    "atm_thickness = 5\n",
    "\n",
    "T_a = -40 #temperature of atmosphere\n",
    "T_0 = 2 #Temperature of soil initially\n",
    "h_stones = 1 # thickness of stone layer\n",
    "porosity = 0.2 #porosity of soil (represented as fraction of void cells in fines domain)\n",
    "rho_water = 1000 #density kg/m3\n",
    "rho_fines = 1600 #density kg/m3\n",
    "\n",
    "# Heat capacity and specific heat:\n",
    "cp_fines = 800 #J/kg/C for dry sand\n",
    "cp_water = 4186 #J/kg/C\n",
    "cp_wet = 1480 #J/kg/C\n",
    "L_fusion = 333.55*1000 #J/kg\n",
    "\n",
    "# thermal diffusivities\n",
    "kappa_fines = 1e-5 \n",
    "kappa_stones = 1e-3\n",
    "kappa_ice = 1e-7\n",
    "kappa_atmosphere = 1e-7"
   ]
  },
  {
   "cell_type": "code",
   "execution_count": 10,
   "metadata": {},
   "outputs": [
    {
     "data": {
      "text/plain": [
       "array([['a', 'a', 'a', 'a', 'a'],\n",
       "       ['a', 'a', 'a', 'a', 'a'],\n",
       "       ['a', 'a', 'a', 'a', 'a'],\n",
       "       ['a', 'a', 'a', 'a', 'a'],\n",
       "       ['a', 'a', 'a', 'a', 'a'],\n",
       "       ['s', 's', 's', 's', 's'],\n",
       "       ['f', 'f', 'f', 'f', 'f'],\n",
       "       ['v', 'v', 'f', 'f', 'v'],\n",
       "       ['f', 'v', 'f', 'f', 'f'],\n",
       "       ['f', 'f', 'f', 'f', 'f']], dtype='<U32')"
      ]
     },
     "execution_count": 10,
     "metadata": {},
     "output_type": "execute_result"
    }
   ],
   "source": [
    "\n",
    "\n",
    "#create initial arrays:\n",
    "temp_arr = np.zeros((nz,nx)) #array for temperature\n",
    "type_arr = np.zeros_like(temp_arr).astype('str')\n",
    "kappa_arr = np.zeros_like(temp_arr) # array holding diffusivity of each cell\n",
    "\n",
    "#set type array:\n",
    "type_arr[:atm_thickness,:] = 'a'\n",
    "type_arr[atm_thickness:atm_thickness+h_stones,:] = 's'\n",
    "type_arr[atm_thickness+h_stones:,:] = 'f'\n",
    "\n",
    "# add voids at random spaces based on type\n",
    "n_voids = int(np.sum(type_arr == 'f')*porosity)\n",
    "void_indx = [(np.random.randint(atm_thickness+h_stones,len(type_arr)),np.random.randint(0,len(type_arr[0]))) for _ in range(n_voids)]\n",
    "for i in void_indx:\n",
    "    type_arr[i] = 'v'\n",
    "\n",
    "type_arr\n",
    "\n"
   ]
  },
  {
   "cell_type": "code",
   "execution_count": 47,
   "metadata": {},
   "outputs": [],
   "source": [
    "def set_arrays(type_arr,diff_arr,temp_arr,heat_arr,kappa_atm,kappa_fines,kappa_stones,T_a,T_0,heat_initial):\n",
    "    '''Set diffusivity, temperature and latent heat arrays for the next freezing cycle'''\n",
    "    mapping_dict = {'a': [kappa_atm,T_a,0],'v':[kappa_atm,T_0,0],'f':[kappa_fines,T_0,heat_initial],'s':[kappa_stones,T_0,0]}\n",
    "    for key in mapping_dict:\n",
    "        diff_arr[type_arr == key] = mapping_dict[key][0]\n",
    "        temp_arr[type_arr == key] = mapping_dict[key][1]\n",
    "        heat_arr[type_arr == key] = mapping_dict[key][2]\n",
    "    \n",
    "    return diff_arr,temp_arr,heat_arr"
   ]
  },
  {
   "cell_type": "code",
   "execution_count": 11,
   "metadata": {},
   "outputs": [
    {
     "data": {
      "image/png": "[encoded data removed]",
      "text/plain": [
       "<Figure size 640x480 with 2 Axes>"
      ]
     },
     "metadata": {},
     "output_type": "display_data"
    }
   ],
   "source": [
    "# set thermal diffusivity array:\n",
    "kappa_arr[type_arr == 'a'] = kappa_atmosphere\n",
    "kappa_arr[type_arr == 'v'] = kappa_atmosphere\n",
    "kappa_arr[type_arr == 's'] = kappa_stones\n",
    "kappa_arr[type_arr == 'f'] = kappa_fines\n",
    "\n",
    "plt.imshow(np.log10(kappa_arr),cmap='cividis')\n",
    "plt.colorbar();"
   ]
  },
  {
   "cell_type": "code",
   "execution_count": 12,
   "metadata": {},
   "outputs": [
    {
     "data": {
      "image/png": "[encoded data removed]",
      "text/plain": [
       "<Figure size 640x480 with 2 Axes>"
      ]
     },
     "metadata": {},
     "output_type": "display_data"
    }
   ],
   "source": [
    "# set initial Temperature array:\n",
    "temp_arr[type_arr=='a'] = T_a\n",
    "temp_arr[type_arr !='a'] = T_0\n",
    "\n",
    "plt.imshow(temp_arr,cmap='inferno')\n",
    "plt.colorbar();"
   ]
  },
  {
   "cell_type": "code",
   "execution_count": 13,
   "metadata": {},
   "outputs": [
    {
     "name": "stdout",
     "output_type": "stream",
     "text": [
      "(12, 7)\n"
     ]
    },
    {
     "data": {
      "text/plain": [
       "'b'"
      ]
     },
     "execution_count": 13,
     "metadata": {},
     "output_type": "execute_result"
    }
   ],
   "source": [
    "# pad each array to have a constant boundary\n",
    "temp_arr_pad = np.pad(temp_arr,mode='edge',pad_width=1)\n",
    "temp_arr_pad[-1,:] = -2\n",
    "\n",
    "type_arr_pad = np.pad(type_arr,1,mode='constant',constant_values='b')\n",
    "\n",
    "kappa_arr_pad = np.pad(kappa_arr,1,mode='edge')\n",
    "print(type_arr_pad.shape)\n",
    "type_arr_pad[1,6]"
   ]
  },
  {
   "cell_type": "code",
   "execution_count": 14,
   "metadata": {},
   "outputs": [],
   "source": [
    "kappa_arr_pad_original = kappa_arr_pad.copy()\n",
    "type_arr_pad_original = type_arr_pad.copy()"
   ]
  },
  {
   "attachments": {},
   "cell_type": "markdown",
   "metadata": {},
   "source": [
    "## Temperature Diffusion\n",
    "The Heat equation is given by:\n",
    "$\\frac{\\partial T}{\\partial t} = \\kappa \\nabla^2T  \\\\$\n",
    "Discretised for 2 dimensions and using FTCS this gives \n",
    "$\\Delta T_{i,j} = \\kappa \\Delta t (\\frac{T_{i-1,j}^n - 2T_{i,j}^n+T_{i+1,j}^n}{\\Delta x^2} + \\frac{T_{i,j-1}^n - 2T_{i,j}^n+T_{i,j+1}^n}{\\Delta z^2}$)"
   ]
  },
  {
   "cell_type": "code",
   "execution_count": 15,
   "metadata": {},
   "outputs": [
    {
     "name": "stdout",
     "output_type": "stream",
     "text": [
      "1.2500000000000002\n"
     ]
    }
   ],
   "source": [
    "dt = min(dx**2/(8*kappa_stones),dz**2/(8*kappa_stones))\n",
    "print(dt)\n",
    "\n",
    "def solve_heat2D(T,type,kappa, dt=dt,dx=dx,dz=dz,nx=nx,nz=nz):\n",
    "    dT_arr = np.zeros_like(T)\n",
    "    for i in range(1, nx+1):\n",
    "        for j in range(1,nz+1):\n",
    "            if type[j,i] == 'a' or type[j,i] == 'b': #ignore atomsphere and boundary cells\n",
    "                continue\n",
    "            else:\n",
    "                dTdx = (T[j,i-1] - 2*T[j,i] + T[j,i+1]) / (dx**2) # calculate T difference in  x\n",
    "                dTdz = (T[j-1,i] - 2*T[j,i] + T[j+1,i]) / (dz**2) # calculate T difference in z\n",
    "                \n",
    "                dT_arr[j,i] = kappa[j,i]*dt*(dTdx+dTdz)\n",
    "\n",
    "    return dT_arr"
   ]
  },
  {
   "attachments": {},
   "cell_type": "markdown",
   "metadata": {},
   "source": [
    "### Testing diffusion equation on its own"
   ]
  },
  {
   "cell_type": "code",
   "execution_count": 16,
   "metadata": {},
   "outputs": [
    {
     "name": "stdout",
     "output_type": "stream",
     "text": [
      "320000\n"
     ]
    }
   ],
   "source": [
    "temp_arr_pad_original = temp_arr_pad.copy()\n",
    "nt = int(400000/dt)+1\n",
    "print(nt)\n",
    "for _ in range(nt):\n",
    "    temp_arr_pad += solve_heat2D(temp_arr_pad,type_arr_pad,kappa_arr_pad)"
   ]
  },
  {
   "cell_type": "code",
   "execution_count": 17,
   "metadata": {},
   "outputs": [
    {
     "data": {
      "image/png": "[encoded data removed]",
      "text/plain": [
       "<Figure size 640x480 with 3 Axes>"
      ]
     },
     "metadata": {},
     "output_type": "display_data"
    }
   ],
   "source": [
    "fig,ax = plt.subplots(1,2)\n",
    "\n",
    "ax[0].imshow(temp_arr_pad_original,cmap='inferno')\n",
    "im = ax[1].imshow(temp_arr_pad,cmap='inferno')\n",
    "fig.subplots_adjust(right=0.8)\n",
    "cbar_ax = fig.add_axes([0.85, 0.15, 0.05, 0.7])\n",
    "fig.colorbar(im,cax=cbar_ax,label='Temperature(C)');"
   ]
  },
  {
   "attachments": {},
   "cell_type": "markdown",
   "metadata": {},
   "source": [
    "### Add Latent heat conversion"
   ]
  },
  {
   "cell_type": "code",
   "execution_count": 18,
   "metadata": {},
   "outputs": [],
   "source": [
    "# Create array of amount of heat needed for full conversion of water to ice:\n",
    "Q_needed = porosity*(dz*dx**2)*rho_water*L_fusion # Heat needed for a cell of all porous space filled by water\n",
    "\n",
    "heat_arr_initial = np.zeros_like(temp_arr_pad)\n",
    "heat_arr_initial[type_arr_pad=='f'] = Q_needed #set fines cells in heat array to the initial heat needed for fusion"
   ]
  },
  {
   "cell_type": "code",
   "execution_count": 19,
   "metadata": {},
   "outputs": [],
   "source": [
    "def convert_T_to_heat(T,dz=dz,dx=dx,cp=cp_wet,porosity=porosity,rho_solid=rho_fines,rho_water=rho_water):\n",
    "    mass = porosity*(dz*dx**2)*rho_water + (1-porosity)*(dz*dx**2)*rho_solid #calculate mass of whole cell\n",
    "    return T*mass*cp"
   ]
  },
  {
   "cell_type": "code",
   "execution_count": 20,
   "metadata": {},
   "outputs": [
    {
     "data": {
      "image/png": "[encoded data removed]",
      "text/plain": [
       "<Figure size 640x480 with 2 Axes>"
      ]
     },
     "metadata": {},
     "output_type": "display_data"
    }
   ],
   "source": [
    "temp_arr_pad = temp_arr_pad_original.copy()\n",
    "nt = int(400000/dt)+1\n",
    "heat_arr = heat_arr_initial.copy()\n",
    "for _ in range(nt):\n",
    "    temp_change = solve_heat2D(temp_arr_pad,type_arr_pad,kappa_arr_pad) #calculate change in Temperature\n",
    "\n",
    "    for i in range(1, nx+1):\n",
    "        for j in range(1,nz+1):\n",
    "            new_temp = temp_arr_pad[j,i] + temp_change[j,i]\n",
    "            if type_arr_pad[j,i] == 'f' and heat_arr[j,i] > 0: #only look at fines cells with heat remaining\n",
    "                if new_temp <=0: # check if cell would go below zero\n",
    "                    heat_arr[j,i] += convert_T_to_heat(new_temp) # 'freeze' part of water to stay at zero degrees\n",
    "                    new_temp = 0\n",
    "            \n",
    "            temp_arr_pad[j,i] = new_temp\n",
    "\n",
    "\n",
    "plt.imshow(temp_arr_pad,cmap='inferno')\n",
    "plt.colorbar();"
   ]
  },
  {
   "cell_type": "code",
   "execution_count": 21,
   "metadata": {},
   "outputs": [
    {
     "data": {
      "text/plain": [
       "array([['b', 'b', 'b', 'b', 'b', 'b', 'b'],\n",
       "       ['b', 'a', 'a', 'a', 'a', 'a', 'b'],\n",
       "       ['b', 'a', 'a', 'a', 'a', 'a', 'b'],\n",
       "       ['b', 'a', 'a', 'a', 'a', 'a', 'b'],\n",
       "       ['b', 'a', 'a', 'a', 'a', 'a', 'b'],\n",
       "       ['b', 'a', 'a', 'a', 'a', 'a', 'b'],\n",
       "       ['b', 's', 's', 's', 's', 's', 'b'],\n",
       "       ['b', 'f', 'f', 'f', 'f', 'f', 'b'],\n",
       "       ['b', 'v', 'v', 'f', 'f', 'v', 'b'],\n",
       "       ['b', 'f', 'v', 'f', 'f', 'f', 'b'],\n",
       "       ['b', 'f', 'f', 'f', 'f', 'f', 'b'],\n",
       "       ['b', 'b', 'b', 'b', 'b', 'b', 'b']], dtype='<U32')"
      ]
     },
     "execution_count": 21,
     "metadata": {},
     "output_type": "execute_result"
    }
   ],
   "source": [
    "type_arr_pad"
   ]
  },
  {
   "attachments": {},
   "cell_type": "markdown",
   "metadata": {},
   "source": [
    "## Implementing Rules for freezing:\n",
    "Once a fines cell has full depleted it's latent heat 'reservoir', an ice cell is created and displaces the fine cell either into a void or an atmosphere cell. The probabillity for each is given by the greater of: $\\\\$\n",
    "$P_{surf} = max(0,1-d_{surf}/d_s) \\\\$\n",
    "$P_{void} = max(0,1-d_{void}/d_s)$"
   ]
  },
  {
   "cell_type": "code",
   "execution_count": 22,
   "metadata": {},
   "outputs": [],
   "source": [
    "def cart_distance(p1,p2):\n",
    "    '''Calculate the cartesian distance between two points (2D)'''\n",
    "    return np.sqrt((p1[0]-p2[0])**2 + (p1[1]-p2[1])**2)\n",
    "\n",
    "def find_closest(x,z,target_val,search_arr):\n",
    "    '''Find the closest cell of target_val value to the cell at [z,x] in search_arr and the distance between them'''\n",
    "    valid = np.where(search_arr == target_val)\n",
    "    valid = list(zip(valid[0],valid[1]))\n",
    "\n",
    "    d = [cart_distance((x,z),v) for v in valid]\n",
    "    if len(d) != 0:\n",
    "        closest_idx = valid[np.where(d==min(d))[0][0]]\n",
    "        distance = min(d)\n",
    "    else: #if all space is filled\n",
    "        closest_idx=None\n",
    "        distance=None\n",
    "    return closest_idx, distance\n",
    "\n",
    "def find_newplace(old_coord,type_arr=type_arr_pad,ds=5,dv=5):\n",
    "    ''' Find new location for a cell when displaced by an ice cell'''\n",
    "    z,x = old_coord\n",
    "    closest_atm, d_atm = find_closest(z,x,'a',type_arr)\n",
    "    closest_void, d_void = find_closest(z,x,'v',type_arr)\n",
    "\n",
    "    if closest_void == None or d_void == None:\n",
    "        new_z,new_x = closest_atm\n",
    "        return new_z,new_x\n",
    "    \n",
    "    P_surf = max(0,1-(d_atm/ds))\n",
    "    P_void = max(0,1-(d_void/dv))\n",
    "\n",
    "    if P_surf > P_void:\n",
    "        new_z,new_x = closest_atm\n",
    "    else:\n",
    "        new_z,new_x = closest_void\n",
    "\n",
    "    return new_z,new_x\n",
    "\n",
    "def replace_cell(old_coord,new_coord,type_arr,diff_arr,fine_diff = kappa_fines,ice_diff=kappa_ice):\n",
    "    '''Replace fines cell with ice particle and move fines to new cell and change diffusivity array'''\n",
    "    #change old cell to ice cell:\n",
    "    type_arr[old_coord] = 'i'\n",
    "    diff_arr[old_coord] = ice_diff\n",
    "\n",
    "    #change new cell:\n",
    "    type_arr[new_coord] = 'f'\n",
    "    diff_arr[new_coord] = fine_diff\n",
    "\n",
    "    return type_arr,diff_arr\n",
    "    "
   ]
  },
  {
   "cell_type": "code",
   "execution_count": 23,
   "metadata": {},
   "outputs": [
    {
     "name": "stdout",
     "output_type": "stream",
     "text": [
      "[['b' 'b' 'b' 'b' 'b' 'b' 'b']\n",
      " ['b' 'a' 'a' 'a' 'a' 'a' 'b']\n",
      " ['b' 'a' 'a' 'a' 'a' 'a' 'b']\n",
      " ['b' 'a' 'a' 'a' 'a' 'a' 'b']\n",
      " ['b' 'a' 'a' 'a' 'a' 'a' 'b']\n",
      " ['b' 'a' 'a' 'a' 'a' 'a' 'b']\n",
      " ['b' 's' 's' 's' 's' 's' 'b']\n",
      " ['b' 'f' 'f' 'f' 'f' 'f' 'b']\n",
      " ['b' 'v' 'v' 't' 'f' 'v' 'b']\n",
      " ['b' 'f' 'v' 'f' 'f' 'f' 'b']\n",
      " ['b' 'f' 'f' 'f' 'f' 'f' 'b']\n",
      " ['b' 'b' 'b' 'b' 'b' 'b' 'b']]\n",
      "(8, 2)\n",
      "[['b' 'b' 'b' 'b' 'b' 'b' 'b']\n",
      " ['b' 'a' 'a' 'a' 'a' 'a' 'b']\n",
      " ['b' 'a' 'a' 'a' 'a' 'a' 'b']\n",
      " ['b' 'a' 'a' 'a' 'a' 'a' 'b']\n",
      " ['b' 'a' 'a' 'a' 'a' 'a' 'b']\n",
      " ['b' 'a' 'a' 'a' 'a' 'a' 'b']\n",
      " ['b' 's' 's' 's' 's' 's' 'b']\n",
      " ['b' 'f' 'f' 'f' 'f' 'f' 'b']\n",
      " ['b' 'v' 'f' 'i' 'f' 'v' 'b']\n",
      " ['b' 'f' 'v' 'f' 'f' 'f' 'b']\n",
      " ['b' 'f' 'f' 'f' 'f' 'f' 'b']\n",
      " ['b' 'b' 'b' 'b' 'b' 'b' 'b']]\n"
     ]
    }
   ],
   "source": [
    "#setting up a test case\n",
    "type_arr_pad_test = type_arr_pad.copy()\n",
    "kappa_arr_pad_test = kappa_arr_pad.copy()\n",
    "test_z = 8\n",
    "test_x = 3\n",
    "test_coord = (test_z,test_x)\n",
    "type_arr_pad_test[test_coord] = 't'\n",
    "\n",
    "print(type_arr_pad_test)\n",
    "new_coord = find_newplace(test_coord,type_arr=type_arr_pad_test)\n",
    "print(new_coord)\n",
    "type_arr_pad_test,kappa_arr_pad_test = replace_cell((test_z,test_x),new_coord,type_arr_pad_test,kappa_arr_pad_test)\n",
    "print(type_arr_pad_test)"
   ]
  },
  {
   "attachments": {},
   "cell_type": "markdown",
   "metadata": {},
   "source": [
    "## Combining Diffusion and fines movement\n",
    "Combine diffusion, latent heat and movement of fines to have a full freezing cycle"
   ]
  },
  {
   "cell_type": "code",
   "execution_count": 24,
   "metadata": {},
   "outputs": [],
   "source": [
    "# set up model run\n",
    "temp_arr_pad = temp_arr_pad_original.copy()\n",
    "heat_arr = heat_arr_initial.copy()\n",
    "kappa_arr_pad = kappa_arr_pad_original.copy()\n",
    "type_arr_pad = type_arr_pad_original.copy()\n",
    "nt = int(400000/dt)+1"
   ]
  },
  {
   "cell_type": "code",
   "execution_count": 25,
   "metadata": {},
   "outputs": [
    {
     "name": "stdout",
     "output_type": "stream",
     "text": [
      "Timesteps taken:44359\n"
     ]
    }
   ],
   "source": [
    "# model loop:\n",
    "c = 0\n",
    "for _ in range(nt):\n",
    "    c+=1\n",
    "    temp_change = solve_heat2D(temp_arr_pad,type_arr_pad,kappa_arr_pad) #calculate change in Temperature\n",
    "\n",
    "    for i in range(1, nx+1):\n",
    "        for j in range(1,nz+1):\n",
    "            new_temp = temp_arr_pad[j,i] + temp_change[j,i]\n",
    "            if type_arr_pad[j,i] == 'f' and heat_arr[j,i] > 0: #only look at fines cells with heat remaining\n",
    "                if new_temp <=0: # check if cell would go below zero\n",
    "                    heat_arr[j,i] += convert_T_to_heat(new_temp) # 'freeze' part of water to stay at zero degrees\n",
    "                    new_temp = 0\n",
    "                    if heat_arr[j,i] <= 0: #if all heat is used up replace fine with ice\n",
    "                        new_coord = find_newplace((j,i),type_arr_pad)\n",
    "                        type_arr_pad,kappa_arr_pad = replace_cell((j,i),new_coord,type_arr_pad,kappa_arr_pad)\n",
    "            \n",
    "            temp_arr_pad[j,i] = new_temp\n",
    "    if np.all(heat_arr <=0):\n",
    "        break\n",
    "print(f'Timesteps taken:{c}')"
   ]
  },
  {
   "cell_type": "code",
   "execution_count": 26,
   "metadata": {},
   "outputs": [
    {
     "data": {
      "text/plain": [
       "array([[0, 0, 0, 0, 0, 0, 0],\n",
       "       [0, 1, 1, 1, 1, 1, 0],\n",
       "       [0, 1, 1, 1, 1, 1, 0],\n",
       "       [0, 1, 1, 1, 2, 2, 0],\n",
       "       [0, 2, 2, 2, 2, 2, 0],\n",
       "       [0, 2, 2, 2, 2, 2, 0],\n",
       "       [0, 3, 3, 3, 3, 3, 0],\n",
       "       [0, 4, 4, 4, 4, 4, 0],\n",
       "       [0, 2, 2, 4, 4, 2, 0],\n",
       "       [0, 4, 2, 4, 4, 4, 0],\n",
       "       [0, 4, 4, 4, 4, 4, 0],\n",
       "       [0, 0, 0, 0, 0, 0, 0]])"
      ]
     },
     "execution_count": 26,
     "metadata": {},
     "output_type": "execute_result"
    }
   ],
   "source": [
    "conversion_dict = {'a': 1,'b':0,'f':2,'s':3,'i':4}\n",
    "viz_arr = type_arr_pad.copy()\n",
    "for i in range(0,type_arr_pad.shape[0]):\n",
    "    for j in range(0,type_arr_pad.shape[1]):\n",
    "        viz_arr[i,j] = conversion_dict[type_arr_pad[i,j]]\n",
    "viz_arr = viz_arr.astype('int')\n",
    "viz_arr"
   ]
  },
  {
   "cell_type": "code",
   "execution_count": 27,
   "metadata": {},
   "outputs": [
    {
     "data": {
      "image/png": "[encoded data removed]",
      "text/plain": [
       "<Figure size 640x480 with 2 Axes>"
      ]
     },
     "metadata": {},
     "output_type": "display_data"
    }
   ],
   "source": [
    "plt.imshow(viz_arr)\n",
    "plt.colorbar();"
   ]
  },
  {
   "cell_type": "code",
   "execution_count": 28,
   "metadata": {},
   "outputs": [],
   "source": [
    "cmap = (colors.ListedColormap(['black','white','brown','gray','lightblue'])\n",
    "        .with_extremes(over='0', under='1'))\n",
    "\n",
    "bounds = [0,1,2,3,4]\n",
    "norm = colors.BoundaryNorm(bounds, cmap.N)"
   ]
  },
  {
   "cell_type": "code",
   "execution_count": 32,
   "metadata": {},
   "outputs": [
    {
     "data": {
      "image/png": "[encoded data removed]",
      "text/plain": [
       "<Figure size 640x480 with 2 Axes>"
      ]
     },
     "metadata": {},
     "output_type": "display_data"
    }
   ],
   "source": [
    "plt.imshow(viz_arr,cmap=cmap)\n",
    "plt.suptitle('Fines and Stones after freezing')\n",
    "plt.colorbar(ticks=bounds);"
   ]
  },
  {
   "attachments": {},
   "cell_type": "markdown",
   "metadata": {},
   "source": [
    "## Thawing cycle\n",
    "1. Removing ice cells\n",
    "2. Fines falling through stone\n",
    "3. Expansion and incorporation of void space"
   ]
  },
  {
   "cell_type": "code",
   "execution_count": null,
   "metadata": {},
   "outputs": [],
   "source": [
    "#"
   ]
  }
 ],
 "metadata": {
  "kernelspec": {
   "display_name": "Python 3",
   "language": "python",
   "name": "python3"
  },
  "language_info": {
   "codemirror_mode": {
    "name": "ipython",
    "version": 3
   },
   "file_extension": ".py",
   "mimetype": "text/x-python",
   "name": "python",
   "nbconvert_exporter": "python",
   "pygments_lexer": "ipython3",
   "version": "3.10.6"
  },
  "orig_nbformat": 4
 },
 "nbformat": 4,
 "nbformat_minor": 2
}
