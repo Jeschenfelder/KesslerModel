{
 "cells": [
  {
   "attachments": {},
   "cell_type": "markdown",
   "metadata": {},
   "source": [
    "# Kessler Rules model for Sorted Circles"
   ]
  },
  {
   "cell_type": "code",
   "execution_count": 1,
   "metadata": {},
   "outputs": [],
   "source": [
    "import numpy as np\n",
    "from scipy.signal import convolve2d\n",
    "\n",
    "#Plotting\n",
    "import matplotlib.pyplot as plt\n",
    "from matplotlib import colors,cm\n",
    "\n",
    "#importing solver functions and plotting scripts\n",
    "from functions import *\n",
    "from plotting import *"
   ]
  },
  {
   "attachments": {},
   "cell_type": "markdown",
   "metadata": {},
   "source": [
    "## Setting up the Grids\n",
    "Only work in 2-D case for now. Small test case"
   ]
  },
  {
   "cell_type": "code",
   "execution_count": 2,
   "metadata": {},
   "outputs": [],
   "source": [
    "# Setting constants\n",
    "nx = 5\n",
    "nz = 10\n",
    "dx,dz = 0.2,0.1\n",
    "atm_thickness = 5\n",
    "\n",
    "T_a = -40 #temperature of atmosphere\n",
    "T_0 = 2 #Temperature of soil initially\n",
    "h_stones = 1 # thickness of stone layer\n",
    "compressibility = 0.2 #compresssiblitityof soil (represented as fraction of void cells in fines domain)\n",
    "rho_water = 1000 #density kg/m3\n",
    "rho_fines = 1600 #density kg/m3\n",
    "\n",
    "# Heat capacity and specific heat:\n",
    "cp_fines = 800 #J/kg/C for dry sand\n",
    "cp_water = 4186 #J/kg/C\n",
    "cp_wet = 1480 #J/kg/C\n",
    "L_fusion = 333.55*1000 #J/kg\n",
    "\n",
    "# thermal diffusivities\n",
    "kappa_fines = 1e-5 \n",
    "kappa_stones = 1e-3\n",
    "kappa_ice = 1e-7\n",
    "kappa_atmosphere = 1e-7"
   ]
  },
  {
   "cell_type": "code",
   "execution_count": 3,
   "metadata": {},
   "outputs": [
    {
     "data": {
      "text/plain": [
       "array([['a', 'a', 'a', 'a', 'a'],\n",
       "       ['a', 'a', 'a', 'a', 'a'],\n",
       "       ['a', 'a', 'a', 'a', 'a'],\n",
       "       ['a', 'a', 'a', 'a', 'a'],\n",
       "       ['a', 'a', 'a', 'a', 'a'],\n",
       "       ['s', 's', 's', 's', 's'],\n",
       "       ['f', 'f', 'v', 'f', 'f'],\n",
       "       ['f', 'f', 'f', 'v', 'v'],\n",
       "       ['f', 'f', 'f', 'f', 'f'],\n",
       "       ['f', 'f', 'f', 'v', 'f']], dtype='<U32')"
      ]
     },
     "execution_count": 3,
     "metadata": {},
     "output_type": "execute_result"
    }
   ],
   "source": [
    "\n",
    "\n",
    "#create initial arrays:\n",
    "temp_arr = np.zeros((nz,nx)) #array for temperature\n",
    "type_arr = np.zeros_like(temp_arr).astype('str')\n",
    "kappa_arr = np.zeros_like(temp_arr) # array holding diffusivity of each cell\n",
    "\n",
    "#set type array:\n",
    "type_arr[:atm_thickness,:] = 'a'\n",
    "type_arr[atm_thickness:atm_thickness+h_stones,:] = 's'\n",
    "type_arr[atm_thickness+h_stones:,:] = 'f'\n",
    "\n",
    "# add voids at random spaces based on type\n",
    "n_voids = int(np.sum(type_arr == 'f')*compressibility)\n",
    "void_indx = [(np.random.randint(atm_thickness+h_stones,len(type_arr)),np.random.randint(0,len(type_arr[0]))) for _ in range(n_voids)]\n",
    "for i in void_indx:\n",
    "    type_arr[i] = 'v'\n",
    "\n",
    "type_arr"
   ]
  },
  {
   "cell_type": "code",
   "execution_count": 4,
   "metadata": {},
   "outputs": [],
   "source": [
    "def set_arrays(type_arr,diff_arr,temp_arr,heat_arr,kappa_atm,kappa_fines,kappa_stones,T_a,T_0,heat_initial):\n",
    "    '''Set diffusivity, temperature and latent heat arrays for the next freezing cycle'''\n",
    "    mapping_dict = {'a': [kappa_atm,T_a,0],'v':[kappa_atm,T_0,0],'f':[kappa_fines,T_0,heat_initial],'s':[kappa_stones,T_0,0]}\n",
    "    for key in mapping_dict:\n",
    "        diff_arr[type_arr == key] = mapping_dict[key][0]\n",
    "        temp_arr[type_arr == key] = mapping_dict[key][1]\n",
    "        heat_arr[type_arr == key] = mapping_dict[key][2]\n",
    "    \n",
    "    return diff_arr,temp_arr,heat_arr"
   ]
  },
  {
   "cell_type": "code",
   "execution_count": 5,
   "metadata": {},
   "outputs": [
    {
     "data": {
      "image/png": "[encoded data removed]",
      "text/plain": [
       "<Figure size 640x480 with 2 Axes>"
      ]
     },
     "metadata": {},
     "output_type": "display_data"
    }
   ],
   "source": [
    "# set thermal diffusivity array:\n",
    "kappa_arr[type_arr == 'a'] = kappa_atmosphere\n",
    "kappa_arr[type_arr == 'v'] = kappa_atmosphere\n",
    "kappa_arr[type_arr == 's'] = kappa_stones\n",
    "kappa_arr[type_arr == 'f'] = kappa_fines\n",
    "\n",
    "plt.imshow(np.log10(kappa_arr),cmap='cividis')\n",
    "plt.colorbar();"
   ]
  },
  {
   "cell_type": "code",
   "execution_count": 6,
   "metadata": {},
   "outputs": [
    {
     "data": {
      "image/png": "[encoded data removed]",
      "text/plain": [
       "<Figure size 640x480 with 2 Axes>"
      ]
     },
     "metadata": {},
     "output_type": "display_data"
    }
   ],
   "source": [
    "# set initial Temperature array:\n",
    "temp_arr[type_arr=='a'] = T_a\n",
    "temp_arr[type_arr !='a'] = T_0\n",
    "\n",
    "plt.imshow(temp_arr,cmap='inferno')\n",
    "plt.colorbar();"
   ]
  },
  {
   "cell_type": "code",
   "execution_count": 7,
   "metadata": {},
   "outputs": [
    {
     "name": "stdout",
     "output_type": "stream",
     "text": [
      "(12, 7)\n"
     ]
    },
    {
     "data": {
      "text/plain": [
       "'b'"
      ]
     },
     "execution_count": 7,
     "metadata": {},
     "output_type": "execute_result"
    }
   ],
   "source": [
    "# pad each array to have a constant boundary\n",
    "temp_arr_pad = np.pad(temp_arr,mode='edge',pad_width=1)\n",
    "temp_arr_pad[-1,:] = -2\n",
    "\n",
    "type_arr_pad = np.pad(type_arr,1,mode='constant',constant_values='b')\n",
    "\n",
    "kappa_arr_pad = np.pad(kappa_arr,1,mode='edge')\n",
    "print(type_arr_pad.shape)\n",
    "type_arr_pad[1,6]"
   ]
  },
  {
   "cell_type": "code",
   "execution_count": 8,
   "metadata": {},
   "outputs": [],
   "source": [
    "kappa_arr_pad_original = kappa_arr_pad.copy()\n",
    "type_arr_pad_original = type_arr_pad.copy()\n",
    "temp_arr_pad_original = temp_arr_pad.copy()"
   ]
  },
  {
   "attachments": {},
   "cell_type": "markdown",
   "metadata": {},
   "source": [
    "## Temperature Diffusion\n",
    "The Heat equation is given by:\n",
    "$\\frac{\\partial T}{\\partial t} = \\kappa \\nabla^2T  \\\\$\n",
    "Discretised for 2 dimensions and using FTCS this gives \n",
    "$\\Delta T_{i,j} = \\kappa \\Delta t (\\frac{T_{i-1,j}^n - 2T_{i,j}^n+T_{i+1,j}^n}{\\Delta x^2} + \\frac{T_{i,j-1}^n - 2T_{i,j}^n+T_{i,j+1}^n}{\\Delta z^2}$)"
   ]
  },
  {
   "cell_type": "code",
   "execution_count": 9,
   "metadata": {},
   "outputs": [
    {
     "name": "stdout",
     "output_type": "stream",
     "text": [
      "1.2500000000000002\n"
     ]
    }
   ],
   "source": [
    "dt = min(dx**2/(8*kappa_stones),dz**2/(8*kappa_stones))\n",
    "print(dt)\n",
    "\n",
    "def solve_heat2D(T,type,kappa, dt=dt,dx=dx,dz=dz,nx=nx,nz=nz):\n",
    "    dT_arr = np.zeros_like(T)\n",
    "    for i in range(1, nx+1):\n",
    "        for j in range(1,nz+1):\n",
    "            if type[j,i] == 'a' or type[j,i] == 'b': #ignore atomsphere and boundary cells\n",
    "                continue\n",
    "            else:\n",
    "                dTdx = (T[j,i-1] - 2*T[j,i] + T[j,i+1]) / (dx**2) # calculate T difference in  x\n",
    "                dTdz = (T[j-1,i] - 2*T[j,i] + T[j+1,i]) / (dz**2) # calculate T difference in z\n",
    "                \n",
    "                dT_arr[j,i] = kappa[j,i]*dt*(dTdx+dTdz)\n",
    "\n",
    "    return dT_arr"
   ]
  },
  {
   "attachments": {},
   "cell_type": "markdown",
   "metadata": {},
   "source": [
    "### Testing diffusion equation on its own"
   ]
  },
  {
   "cell_type": "code",
   "execution_count": 10,
   "metadata": {},
   "outputs": [
    {
     "data": {
      "text/plain": [
       "\"\\n# Uncomment to run heat diffusion without latent heat conversion\\n\\nnt = int(400000/dt)+1\\nprint(nt)\\nfor _ in range(nt):\\n    temp_arr_pad += solve_heat2D(temp_arr_pad,type_arr_pad,kappa_arr_pad)\\n\\n    \\nfig,ax = plt.subplots(1,2)\\n\\nax[0].imshow(temp_arr_pad_original,cmap='inferno')\\nim = ax[1].imshow(temp_arr_pad,cmap='inferno')\\nfig.subplots_adjust(right=0.8)\\ncbar_ax = fig.add_axes([0.85, 0.15, 0.05, 0.7])\\nfig.colorbar(im,cax=cbar_ax,label='Temperature(C)');    \\n\""
      ]
     },
     "execution_count": 10,
     "metadata": {},
     "output_type": "execute_result"
    }
   ],
   "source": [
    "'''\n",
    "# Uncomment to run heat diffusion without latent heat conversion\n",
    "\n",
    "nt = int(400000/dt)+1\n",
    "print(nt)\n",
    "for _ in range(nt):\n",
    "    temp_arr_pad += solve_heat2D(temp_arr_pad,type_arr_pad,kappa_arr_pad)\n",
    "\n",
    "    \n",
    "fig,ax = plt.subplots(1,2)\n",
    "\n",
    "ax[0].imshow(temp_arr_pad_original,cmap='inferno')\n",
    "im = ax[1].imshow(temp_arr_pad,cmap='inferno')\n",
    "fig.subplots_adjust(right=0.8)\n",
    "cbar_ax = fig.add_axes([0.85, 0.15, 0.05, 0.7])\n",
    "fig.colorbar(im,cax=cbar_ax,label='Temperature(C)');    \n",
    "'''"
   ]
  },
  {
   "attachments": {},
   "cell_type": "markdown",
   "metadata": {},
   "source": [
    "### Add Latent heat conversion"
   ]
  },
  {
   "cell_type": "code",
   "execution_count": 11,
   "metadata": {},
   "outputs": [],
   "source": [
    "# Create array of amount of heat needed for full conversion of water to ice:\n",
    "Q_needed = compressibility*(dz*dx**2)*rho_water*L_fusion # Heat needed for a cell of all porous space filled by water\n",
    "\n",
    "heat_arr_initial = np.zeros_like(temp_arr_pad)\n",
    "heat_arr_initial[type_arr_pad=='f'] = Q_needed #set fines cells in heat array to the initial heat needed for fusion"
   ]
  },
  {
   "cell_type": "code",
   "execution_count": 12,
   "metadata": {},
   "outputs": [],
   "source": [
    "'''\n",
    "# Uncomment to run diffusion with latent heat conversion\n",
    "\n",
    "temp_arr_pad = temp_arr_pad_original.copy()\n",
    "nt = int(400000/dt)+1\n",
    "heat_arr = heat_arr_initial.copy()\n",
    "for _ in range(nt):\n",
    "    temp_change = solve_heat2D(temp_arr_pad,type_arr_pad,kappa_arr_pad) #calculate change in Temperature\n",
    "\n",
    "    for i in range(1, nx+1):\n",
    "        for j in range(1,nz+1):\n",
    "            new_temp = temp_arr_pad[j,i] + temp_change[j,i]\n",
    "            if type_arr_pad[j,i] == 'f' and heat_arr[j,i] > 0: #only look at fines cells with heat remaining\n",
    "                if new_temp <=0: # check if cell would go below zero\n",
    "                    heat_arr[j,i] += convert_T_to_heat(new_temp) # 'freeze' part of water to stay at zero degrees\n",
    "                    new_temp = 0\n",
    "            \n",
    "            temp_arr_pad[j,i] = new_temp\n",
    "\n",
    "\n",
    "plt.imshow(temp_arr_pad,cmap='inferno')\n",
    "plt.colorbar();\n",
    "''';"
   ]
  },
  {
   "attachments": {},
   "cell_type": "markdown",
   "metadata": {},
   "source": [
    "## Implementing Rules for freezing:\n",
    "Once a fines cell has full depleted it's latent heat 'reservoir', an ice cell is created and displaces the fine cell either into a void or an atmosphere cell. The probabillity for each is given by the greater of: $\\\\$\n",
    "$P_{surf} = max(0,1-d_{surf}/d_s) \\\\$\n",
    "$P_{void} = max(0,1-d_{void}/d_s)$"
   ]
  },
  {
   "cell_type": "code",
   "execution_count": 13,
   "metadata": {},
   "outputs": [
    {
     "name": "stdout",
     "output_type": "stream",
     "text": [
      "[['b' 'b' 'b' 'b' 'b' 'b' 'b']\n",
      " ['b' 'a' 'a' 'a' 'a' 'a' 'b']\n",
      " ['b' 'a' 'a' 'a' 'a' 'a' 'b']\n",
      " ['b' 'a' 'a' 'a' 'a' 'a' 'b']\n",
      " ['b' 'a' 'a' 'a' 'a' 'a' 'b']\n",
      " ['b' 'a' 'a' 'a' 'a' 'a' 'b']\n",
      " ['b' 's' 's' 's' 's' 's' 'b']\n",
      " ['b' 'f' 'f' 'v' 'f' 'f' 'b']\n",
      " ['b' 'f' 'f' 't' 'v' 'v' 'b']\n",
      " ['b' 'f' 'f' 'f' 'f' 'f' 'b']\n",
      " ['b' 'f' 'f' 'f' 'v' 'f' 'b']\n",
      " ['b' 'b' 'b' 'b' 'b' 'b' 'b']]\n",
      "(7, 3)\n",
      "[['b' 'b' 'b' 'b' 'b' 'b' 'b']\n",
      " ['b' 'a' 'a' 'a' 'a' 'a' 'b']\n",
      " ['b' 'a' 'a' 'a' 'a' 'a' 'b']\n",
      " ['b' 'a' 'a' 'a' 'a' 'a' 'b']\n",
      " ['b' 'a' 'a' 'a' 'a' 'a' 'b']\n",
      " ['b' 'a' 'a' 'a' 'a' 'a' 'b']\n",
      " ['b' 's' 's' 's' 's' 's' 'b']\n",
      " ['b' 'f' 'f' 'f' 'f' 'f' 'b']\n",
      " ['b' 'f' 'f' 'i' 'v' 'v' 'b']\n",
      " ['b' 'f' 'f' 'f' 'f' 'f' 'b']\n",
      " ['b' 'f' 'f' 'f' 'v' 'f' 'b']\n",
      " ['b' 'b' 'b' 'b' 'b' 'b' 'b']]\n"
     ]
    }
   ],
   "source": [
    "#setting up a test case\n",
    "type_arr_pad_test = type_arr_pad.copy()\n",
    "kappa_arr_pad_test = kappa_arr_pad.copy()\n",
    "test_z = 8\n",
    "test_x = 3\n",
    "test_coord = (test_z,test_x)\n",
    "type_arr_pad_test[test_coord] = 't'\n",
    "\n",
    "print(type_arr_pad_test)\n",
    "new_coord = find_newplace(test_coord,type_arr=type_arr_pad_test)\n",
    "print(new_coord)\n",
    "type_arr_pad_test,kappa_arr_pad_test = replace_cell((test_z,test_x),new_coord,type_arr_pad_test,kappa_arr_pad_test,fine_diff=kappa_fines,ice_diff=kappa_ice)\n",
    "print(type_arr_pad_test)"
   ]
  },
  {
   "attachments": {},
   "cell_type": "markdown",
   "metadata": {},
   "source": [
    "## Combining Diffusion and fines movement\n",
    "Combine diffusion, latent heat and movement of fines to have a full freezing cycle"
   ]
  },
  {
   "cell_type": "code",
   "execution_count": 14,
   "metadata": {},
   "outputs": [],
   "source": [
    "# set up model run\n",
    "temp_arr_pad = temp_arr_pad_original.copy()\n",
    "heat_arr = heat_arr_initial.copy()\n",
    "kappa_arr_pad = kappa_arr_pad_original.copy()\n",
    "type_arr_pad = type_arr_pad_original.copy()\n",
    "nt = int(400000/dt)+1"
   ]
  },
  {
   "cell_type": "code",
   "execution_count": 15,
   "metadata": {},
   "outputs": [
    {
     "name": "stdout",
     "output_type": "stream",
     "text": [
      "Timesteps taken:48491\n"
     ]
    }
   ],
   "source": [
    "# model loop:\n",
    "c = 0\n",
    "for _ in range(nt):\n",
    "    c+=1\n",
    "    temp_change = solve_heat2D(temp_arr_pad,type_arr_pad,kappa_arr_pad,dt,dx,dz,nx,nz) #calculate change in Temperature\n",
    "\n",
    "    for i in range(1, nx+1):\n",
    "        for j in range(1,nz+1):\n",
    "            new_temp = temp_arr_pad[j,i] + temp_change[j,i]\n",
    "            if type_arr_pad[j,i] == 'f' and heat_arr[j,i] > 0: #only look at fines cells with heat remaining\n",
    "                if new_temp <=0: # check if cell would go below zero\n",
    "                    heat_arr[j,i] += convert_T_to_heat(new_temp,dz,dx,cp_water,compressibility,rho_fines,rho_water) # 'freeze' part of water to stay at zero degrees\n",
    "                    new_temp = 0\n",
    "                    if heat_arr[j,i] <= 0: #if all heat is used up replace fine with ice\n",
    "                        new_coord = find_newplace((j,i),type_arr_pad)\n",
    "                        type_arr_pad,kappa_arr_pad = replace_cell((j,i),new_coord,type_arr_pad,kappa_arr_pad,kappa_fines,kappa_ice)\n",
    "            \n",
    "            temp_arr_pad[j,i] = new_temp\n",
    "    if np.all(heat_arr <=0):\n",
    "        break\n",
    "print(f'Timesteps taken:{c}')"
   ]
  },
  {
   "cell_type": "code",
   "execution_count": 16,
   "metadata": {},
   "outputs": [],
   "source": [
    "# remove padding of type array for easier use in thawing cycle:\n",
    "type_arr_new = type_arr_pad[1:-1,1:-1]"
   ]
  },
  {
   "cell_type": "code",
   "execution_count": 17,
   "metadata": {},
   "outputs": [],
   "source": [
    "viz_arr = convert_typearr(type_arr_new)"
   ]
  },
  {
   "cell_type": "code",
   "execution_count": 18,
   "metadata": {},
   "outputs": [
    {
     "data": {
      "image/png": "[encoded data removed]",
      "text/plain": [
       "<Figure size 600x600 with 2 Axes>"
      ]
     },
     "metadata": {},
     "output_type": "display_data"
    }
   ],
   "source": [
    "cmap,bounds = create_typecmap()\n",
    "fig,ax = plot_typearr(viz_arr,cmap,bounds)"
   ]
  },
  {
   "attachments": {},
   "cell_type": "markdown",
   "metadata": {},
   "source": [
    "## Thawing cycle\n",
    "1. Moving stones to top of fines column\n",
    "2. Removing ice cells\n",
    "3. Moving soils down to fill void space\n",
    "4. Expansion and incorporation of void space\n",
    "5. Stones toppling if angle of repose $>45 ^\\circ $"
   ]
  },
  {
   "cell_type": "code",
   "execution_count": 19,
   "metadata": {},
   "outputs": [],
   "source": [
    "safe_type_arr_pad = type_arr_new.copy()"
   ]
  },
  {
   "cell_type": "code",
   "execution_count": 20,
   "metadata": {},
   "outputs": [],
   "source": [
    "for i in range(0,type_arr_new.shape[1]):\n",
    "    column = type_arr_new[:,i]\n",
    "\n",
    "    #find higest fine cell and all stones in column\n",
    "    stone_idx = np.where(column=='s')[0]\n",
    "    n_stones = len(stone_idx)\n",
    "    highest_fine = np.where(column=='f')[0].min()\n",
    "\n",
    "    #place stones to top and replace with air cell\n",
    "    for i in range(0,n_stones):\n",
    "        column[highest_fine-(i+1)] = 's'\n",
    "        column[stone_idx[i]] = 'a'\n",
    "\n",
    "    #replace all ice with air placeholder and move soil column down:\n",
    "    column[column=='i'] ='a'\n",
    "    mask = (column == 'f') | (column=='s')\n",
    "\n",
    "    for i in range(len(column)-1,-1,-1):\n",
    "        if mask[i] == True:\n",
    "            t = column[i]\n",
    "            new_idx = np.where(column=='a')[0].max() #find lowest void space\n",
    "            column[new_idx] = t\n",
    "            column[i] = 'a'\n",
    "    # replace column in type array:\n",
    "    type_arr_new[:,0] = column"
   ]
  },
  {
   "cell_type": "code",
   "execution_count": 21,
   "metadata": {},
   "outputs": [
    {
     "data": {
      "image/png": "[encoded data removed]",
      "text/plain": [
       "<Figure size 600x600 with 2 Axes>"
      ]
     },
     "metadata": {},
     "output_type": "display_data"
    }
   ],
   "source": [
    "viz_arr_thawed = convert_typearr(type_arr_new)\n",
    "\n",
    "fig,ax=plot_typearr(viz_arr_thawed,cmap,bounds,'Soil profile after thawing')"
   ]
  },
  {
   "cell_type": "code",
   "execution_count": 22,
   "metadata": {},
   "outputs": [],
   "source": [
    "# Adding in of void spaces to mimic expansion of soil\n",
    "kernel = compressibility* np.ones((3,3))\n",
    "mask = (type_arr_new == 'f').astype(int)\n",
    "prob_arr = convolve2d(mask,kernel,boundary='symm')[1:-1,1:-1]/9 *mask\n",
    "rand_arr = np.random.rand(prob_arr.shape[0],prob_arr.shape[1])\n",
    "\n",
    "void_counter = 0\n",
    "\n",
    "void_idx = np.where(rand_arr <= prob_arr)\n"
   ]
  },
  {
   "cell_type": "code",
   "execution_count": 23,
   "metadata": {},
   "outputs": [
    {
     "data": {
      "image/png": "[encoded data removed]",
      "text/plain": [
       "<Figure size 640x480 with 2 Axes>"
      ]
     },
     "metadata": {},
     "output_type": "display_data"
    }
   ],
   "source": [
    "plt.imshow(prob_arr)\n",
    "plt.colorbar();"
   ]
  },
  {
   "cell_type": "code",
   "execution_count": 24,
   "metadata": {},
   "outputs": [
    {
     "name": "stdout",
     "output_type": "stream",
     "text": [
      "[(7, 3), (9, 3)]\n"
     ]
    }
   ],
   "source": [
    "void_idx = list(zip(void_idx[0],void_idx[1]))\n",
    "print(void_idx)"
   ]
  },
  {
   "cell_type": "code",
   "execution_count": 25,
   "metadata": {},
   "outputs": [],
   "source": [
    "void_counter += len(void_idx)\n",
    "for v in void_idx:\n",
    "    full_column = type_arr_new[:,v[1]].copy()\n",
    "    top_column = type_arr_new[:v[0]+1,v[1]].copy()\n",
    "    idx_up = np.where(top_column !='a')[0] #indices of cells to move up in column\n",
    "    for i in idx_up:\n",
    "        full_column[i-1] = full_column[i]\n",
    "    full_column[v[0]] = 'v'\n",
    "    type_arr_new[:,v[1]] = full_column\n"
   ]
  },
  {
   "cell_type": "code",
   "execution_count": 26,
   "metadata": {},
   "outputs": [],
   "source": [
    "viz_arr = convert_typearr(type_arr_new)"
   ]
  },
  {
   "cell_type": "code",
   "execution_count": 27,
   "metadata": {},
   "outputs": [
    {
     "data": {
      "text/plain": [
       "<matplotlib.image.AxesImage at 0x7f1aac05c490>"
      ]
     },
     "execution_count": 27,
     "metadata": {},
     "output_type": "execute_result"
    },
    {
     "data": {
      "image/png": "[encoded data removed]",
      "text/plain": [
       "<Figure size 640x480 with 1 Axes>"
      ]
     },
     "metadata": {},
     "output_type": "display_data"
    }
   ],
   "source": [
    "plt.imshow(viz_arr)"
   ]
  }
 ],
 "metadata": {
  "kernelspec": {
   "display_name": "Python 3",
   "language": "python",
   "name": "python3"
  },
  "language_info": {
   "codemirror_mode": {
    "name": "ipython",
    "version": 3
   },
   "file_extension": ".py",
   "mimetype": "text/x-python",
   "name": "python",
   "nbconvert_exporter": "python",
   "pygments_lexer": "ipython3",
   "version": "3.11.3"
  },
  "orig_nbformat": 4
 },
 "nbformat": 4,
 "nbformat_minor": 2
}
